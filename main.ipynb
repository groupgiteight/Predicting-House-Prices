{
  "nbformat": 4,
  "nbformat_minor": 0,
  "metadata": {
    "colab": {
      "name": "main.ipynb",
      "provenance": [],
      "collapsed_sections": []
    },
    "kernelspec": {
      "name": "python3",
      "display_name": "Python 3"
    }
  },
  "cells": [
    {
      "cell_type": "code",
      "metadata": {
        "id": "slq51sNnbnJb",
        "colab_type": "code",
        "colab": {}
      },
      "source": [
        ""
      ],
      "execution_count": 0,
      "outputs": []
    },
    {
      "cell_type": "code",
      "metadata": {
        "id": "WyUl2VvNc4vn",
        "colab_type": "code",
        "outputId": "2a370922-c58b-4393-af19-aab4f219bf43",
        "colab": {
          "base_uri": "https://localhost:8080/",
          "height": 34
        }
      },
      "source": [
        "from google.colab import drive\n",
        "drive.mount('/content/drive', force_remount = True)"
      ],
      "execution_count": 5,
      "outputs": [
        {
          "output_type": "stream",
          "text": [
            "Mounted at /content/drive\n"
          ],
          "name": "stdout"
        }
      ]
    },
    {
      "cell_type": "code",
      "metadata": {
        "id": "yvUkuf8FdjKj",
        "colab_type": "code",
        "outputId": "7443e052-c3d0-43bb-cfd3-7e0e6c895b93",
        "colab": {
          "base_uri": "https://localhost:8080/",
          "height": 255
        }
      },
      "source": [
        "import pandas\n",
        "import matplotlib.pyplot as plt\n",
        "data = pandas.read_csv('/content/drive/My Drive/test.csv') #If not being run in the group colab, replace the string with wherever your csv is placed.\n",
        "print(data)"
      ],
      "execution_count": 9,
      "outputs": [
        {
          "output_type": "stream",
          "text": [
            "        Id  MSSubClass MSZoning  ...  YrSold  SaleType SaleCondition\n",
            "0     1461          20       RH  ...    2010        WD        Normal\n",
            "1     1462          20       RL  ...    2010        WD        Normal\n",
            "2     1463          60       RL  ...    2010        WD        Normal\n",
            "3     1464          60       RL  ...    2010        WD        Normal\n",
            "4     1465         120       RL  ...    2010        WD        Normal\n",
            "...    ...         ...      ...  ...     ...       ...           ...\n",
            "1454  2915         160       RM  ...    2006        WD        Normal\n",
            "1455  2916         160       RM  ...    2006        WD       Abnorml\n",
            "1456  2917          20       RL  ...    2006        WD       Abnorml\n",
            "1457  2918          85       RL  ...    2006        WD        Normal\n",
            "1458  2919          60       RL  ...    2006        WD        Normal\n",
            "\n",
            "[1459 rows x 80 columns]\n"
          ],
          "name": "stdout"
        }
      ]
    }
  ]
}