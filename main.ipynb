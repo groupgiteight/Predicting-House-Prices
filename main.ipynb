{
  "nbformat": 4,
  "nbformat_minor": 0,
  "metadata": {
    "colab": {
      "name": "main.ipynb",
      "provenance": [],
      "collapsed_sections": [],
      "include_colab_link": true
    },
    "kernelspec": {
      "name": "python3",
      "display_name": "Python 3"
    }
  },
  "cells": [
    {
      "cell_type": "markdown",
      "metadata": {
        "id": "view-in-github",
        "colab_type": "text"
      },
      "source": [
        "<a href=\"https://colab.research.google.com/github/groupgiteight/Predicting-House-Prices/blob/master/main.ipynb\" target=\"_parent\"><img src=\"https://colab.research.google.com/assets/colab-badge.svg\" alt=\"Open In Colab\"/></a>"
      ]
    },
    {
      "cell_type": "code",
      "metadata": {
        "id": "slq51sNnbnJb",
        "colab_type": "code",
        "colab": {}
      },
      "source": [
        ""
      ],
      "execution_count": 0,
      "outputs": []
    },
    {
      "cell_type": "code",
      "metadata": {
        "id": "WyUl2VvNc4vn",
        "colab_type": "code",
        "colab": {
          "base_uri": "https://localhost:8080/",
          "height": 122
        },
        "outputId": "a85ea4a9-50d2-495f-9e81-2ca7ceba16d1"
      },
      "source": [
        "from google.colab import drive\n",
        "drive.mount('/content/drive')"
      ],
      "execution_count": 1,
      "outputs": [
        {
          "output_type": "stream",
          "text": [
            "Go to this URL in a browser: https://accounts.google.com/o/oauth2/auth?client_id=947318989803-6bn6qk8qdgf4n4g3pfee6491hc0brc4i.apps.googleusercontent.com&redirect_uri=urn%3Aietf%3Awg%3Aoauth%3A2.0%3Aoob&scope=email%20https%3A%2F%2Fwww.googleapis.com%2Fauth%2Fdocs.test%20https%3A%2F%2Fwww.googleapis.com%2Fauth%2Fdrive%20https%3A%2F%2Fwww.googleapis.com%2Fauth%2Fdrive.photos.readonly%20https%3A%2F%2Fwww.googleapis.com%2Fauth%2Fpeopleapi.readonly&response_type=code\n",
            "\n",
            "Enter your authorization code:\n",
            "··········\n",
            "Mounted at /content/drive\n"
          ],
          "name": "stdout"
        }
      ]
    },
    {
      "cell_type": "code",
      "metadata": {
        "id": "yvUkuf8FdjKj",
        "colab_type": "code",
        "colab": {
          "base_uri": "https://localhost:8080/",
          "height": 255
        },
        "outputId": "916c8bc4-f655-4e01-f44d-5a2c4fb5b04b"
      },
      "source": [
        "import pandas\n",
        "data = pandas.read_csv('train.csv')\n",
        "print(data)"
      ],
      "execution_count": 3,
      "outputs": [
        {
          "output_type": "stream",
          "text": [
            "        Id  MSSubClass MSZoning  ...  SaleType  SaleCondition SalePrice\n",
            "0        1          60       RL  ...        WD         Normal    208500\n",
            "1        2          20       RL  ...        WD         Normal    181500\n",
            "2        3          60       RL  ...        WD         Normal    223500\n",
            "3        4          70       RL  ...        WD        Abnorml    140000\n",
            "4        5          60       RL  ...        WD         Normal    250000\n",
            "...    ...         ...      ...  ...       ...            ...       ...\n",
            "1455  1456          60       RL  ...        WD         Normal    175000\n",
            "1456  1457          20       RL  ...        WD         Normal    210000\n",
            "1457  1458          70       RL  ...        WD         Normal    266500\n",
            "1458  1459          20       RL  ...        WD         Normal    142125\n",
            "1459  1460          20       RL  ...        WD         Normal    147500\n",
            "\n",
            "[1460 rows x 81 columns]\n"
          ],
          "name": "stdout"
        }
      ]
    }
  ]
}