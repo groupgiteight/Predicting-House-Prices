{
  "nbformat": 4,
  "nbformat_minor": 0,
  "metadata": {
    "colab": {
      "name": "linearregression.ipynb",
      "provenance": [],
      "collapsed_sections": [],
      "toc_visible": true,
      "include_colab_link": true
    },
    "kernelspec": {
      "name": "python3",
      "display_name": "Python 3"
    }
  },
  "cells": [
    {
      "cell_type": "markdown",
      "metadata": {
        "id": "view-in-github",
        "colab_type": "text"
      },
      "source": [
        "<a href=\"https://colab.research.google.com/github/groupgiteight/Predicting-House-Prices/blob/master/linearregression.ipynb\" target=\"_parent\"><img src=\"https://colab.research.google.com/assets/colab-badge.svg\" alt=\"Open In Colab\"/></a>"
      ]
    },
    {
      "cell_type": "code",
      "metadata": {
        "id": "Z5G_BXdj2o3V",
        "colab_type": "code",
        "outputId": "0a5c78de-7a52-4919-de93-3847e8b904fd",
        "colab": {
          "base_uri": "https://localhost:8080/",
          "height": 34
        }
      },
      "source": [
        "from google.colab import drive\n",
        "drive.mount('/content/drive', force_remount=True)"
      ],
      "execution_count": 0,
      "outputs": [
        {
          "output_type": "stream",
          "text": [
            "Mounted at /content/drive\n"
          ],
          "name": "stdout"
        }
      ]
    },
    {
      "cell_type": "code",
      "metadata": {
        "id": "g3a1dHwn2clx",
        "colab_type": "code",
        "outputId": "85e37ad2-43d5-467b-e4bd-4178916ad6dd",
        "colab": {
          "base_uri": "https://localhost:8080/",
          "height": 289
        }
      },
      "source": [
        "# import necessary packages\n",
        "import numpy as np\n",
        "import pandas as pd\n",
        "from sklearn.impute import SimpleImputer\n",
        "from sklearn.linear_model import LinearRegression\n",
        "from sklearn.linear_model import Lasso\n",
        "from sklearn.model_selection import cross_val_score\n",
        "\n",
        "# import data\n",
        "train = pd.read_csv('/content/drive/My Drive/train.csv')\n",
        "test = pd.read_csv('/content/drive/My Drive/test.csv')\n",
        "\n",
        "# divide data into predictor and target variables\n",
        "train_X = train.drop('SalePrice', axis=1)\n",
        "train_y = train.SalePrice\n",
        "test_X = test\n",
        "\n",
        "# one-hot encoding categorical variables for analysis\n",
        "onehot_train_X = pd.get_dummies(train_X)\n",
        "onehot_test_X = pd.get_dummies(test_X)\n",
        "train_X, test_X = onehot_train_X.align(onehot_test_X, join='left', axis=1)\n",
        "\n",
        "# impute missing values with the column's mean value\n",
        "my_imputer = SimpleImputer()\n",
        "train_X = my_imputer.fit_transform(train_X)\n",
        "test_X = my_imputer.transform(test_X)\n",
        "\n",
        "# use cross-validation and print the scores for each\n",
        "reg = LinearRegression()\n",
        "lasso = Lasso()\n",
        "cv_scores = cross_val_score(lasso, train_X, train_y, cv=5)\n",
        "print(cv_scores)\n",
        "\n",
        "# define the model\n",
        "lasso.fit(train_X, train_y)\n",
        "# reg.fit(train_X, train_y)\n",
        "# predictions = reg.predict(test_X)\n",
        "predictions = lasso.predict(test_X)\n",
        "print(predictions)\n",
        "# creating the submission file\n",
        "my_submission = pd.DataFrame({'Id': test.Id, 'SalePrice':predictions})\n",
        "my_submission.to_csv('submission.csv', index=False)\n"
      ],
      "execution_count": 0,
      "outputs": [
        {
          "output_type": "stream",
          "text": [
            "/usr/local/lib/python3.6/dist-packages/sklearn/linear_model/_coordinate_descent.py:476: ConvergenceWarning: Objective did not converge. You might want to increase the number of iterations. Duality gap: 239236245504.00735, tolerance: 759214014.2531197\n",
            "  positive)\n",
            "/usr/local/lib/python3.6/dist-packages/sklearn/linear_model/_coordinate_descent.py:476: ConvergenceWarning: Objective did not converge. You might want to increase the number of iterations. Duality gap: 205576171526.4005, tolerance: 728773513.025937\n",
            "  positive)\n",
            "/usr/local/lib/python3.6/dist-packages/sklearn/linear_model/_coordinate_descent.py:476: ConvergenceWarning: Objective did not converge. You might want to increase the number of iterations. Duality gap: 187329556371.72604, tolerance: 699031751.5199751\n",
            "  positive)\n",
            "/usr/local/lib/python3.6/dist-packages/sklearn/linear_model/_coordinate_descent.py:476: ConvergenceWarning: Objective did not converge. You might want to increase the number of iterations. Duality gap: 244188665791.34326, tolerance: 770619031.1834062\n",
            "  positive)\n",
            "/usr/local/lib/python3.6/dist-packages/sklearn/linear_model/_coordinate_descent.py:476: ConvergenceWarning: Objective did not converge. You might want to increase the number of iterations. Duality gap: 178233138875.94266, tolerance: 724930391.3116124\n",
            "  positive)\n"
          ],
          "name": "stderr"
        },
        {
          "output_type": "stream",
          "text": [
            "[0.85947005 0.81899457 0.81371743 0.88868776 0.64527002]\n",
            "[112606.59247042 160258.01587054 186956.62489805 ... 180157.57910408\n",
            " 116889.03613039 224475.2061721 ]\n"
          ],
          "name": "stdout"
        },
        {
          "output_type": "stream",
          "text": [
            "/usr/local/lib/python3.6/dist-packages/sklearn/linear_model/_coordinate_descent.py:476: ConvergenceWarning: Objective did not converge. You might want to increase the number of iterations. Duality gap: 289676465594.3381, tolerance: 920791133.4609975\n",
            "  positive)\n"
          ],
          "name": "stderr"
        }
      ]
    }
  ]
}